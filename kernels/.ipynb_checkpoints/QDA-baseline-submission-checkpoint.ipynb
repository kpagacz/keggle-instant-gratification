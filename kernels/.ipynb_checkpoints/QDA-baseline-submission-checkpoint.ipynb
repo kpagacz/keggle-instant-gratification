{
 "cells": [
  {
   "cell_type": "code",
   "execution_count": 1,
   "metadata": {},
   "outputs": [],
   "source": [
    "import pandas as pd\n",
    "import seaborn as sns\n",
    "import matplotlib.pyplot as plt\n",
    "import numpy as np\n",
    "import sklearn as sk\n",
    "from sklearn.discriminant_analysis import QuadraticDiscriminantAnalysis\n",
    "\n",
    "\n",
    "from tqdm import tqdm"
   ]
  },
  {
   "cell_type": "code",
   "execution_count": 2,
   "metadata": {},
   "outputs": [],
   "source": [
    "train = pd.read_csv(\"../input/train.csv\", index_col=0)\n",
    "test = pd.read_csv(\"../input/test.csv\", index_col=0)\n"
   ]
  },
  {
   "cell_type": "code",
   "execution_count": 26,
   "metadata": {},
   "outputs": [],
   "source": [
    "submission = pd.read_csv(\"../input/sample_submission.csv\", index_col=0)"
   ]
  },
  {
   "cell_type": "code",
   "execution_count": 3,
   "metadata": {},
   "outputs": [],
   "source": [
    "category = \"wheezy-copper-turtle-magic\""
   ]
  },
  {
   "cell_type": "code",
   "execution_count": 22,
   "metadata": {},
   "outputs": [
    {
     "name": "stderr",
     "output_type": "stream",
     "text": [
      "100%|████████████████████████████████████████████████████████████████████████████████| 512/512 [00:18<00:00, 24.63it/s]\n"
     ]
    }
   ],
   "source": [
    "# Config\n",
    "features = [column for column in train.columns if column not in [\"id\", \"target\", category]]\n",
    "probabilities = pd.Series(np.zeros(len(train)), index=train.index)\n",
    "predictions = pd.Series(np.zeros(len(test)), index=test.index)\n",
    "\n",
    "# Loop through wheezy-copper-turtle-magic\n",
    "for i in tqdm(range(512)):\n",
    "    # Subset train and test\n",
    "    # where wheezy == i and features only\n",
    "    train_ = train.loc[train[category] == i, :]\n",
    "    test_ = test.loc[test[category] == i, :]\n",
    "    \n",
    "    # VarianceThreshold\n",
    "    from sklearn.feature_selection import VarianceThreshold\n",
    "    feature_selector = VarianceThreshold(threshold = 1.5).fit(train_.loc[:, features])\n",
    "    train_2 = feature_selector.transform(train_.loc[:, features])\n",
    "    test_2 = feature_selector.transform(test_.loc[:, features])\n",
    "    \n",
    "    # At this moment train_ and test_ contain all columns and only samples from wheezy == i\n",
    "    # and train_2 and test_2 contain only selected columns and samples from wheezy == i    \n",
    "    \n",
    "    # Stratified k-fold\n",
    "#     skf = sk.model_selection.StratifiedKFold(n_splits=10, random_state=26, shuffle=True)\n",
    "    \n",
    "#     for split_train_index, split_test_index in skf.split(train_2, train_[\"target\"]):\n",
    "        # QDA\n",
    "    qda = QuadraticDiscriminantAnalysis()\n",
    "    qda.fit(train_2, train_[\"target\"])\n",
    "\n",
    "    # Getting probabilities of the test part of the split\n",
    "    split_probabilities = qda.predict_proba(train_2)[:, 1]\n",
    "    \n",
    "    # Saving predictions\n",
    "    probabilities[train_.index] += split_probabilities\n",
    "    \n",
    "    predictions[test_.index] += qda.predict_proba(test_2)[:, 1]"
   ]
  },
  {
   "cell_type": "code",
   "execution_count": 10,
   "metadata": {},
   "outputs": [
    {
     "name": "stdout",
     "output_type": "stream",
     "text": [
      "0.9936729814493824\n"
     ]
    }
   ],
   "source": [
    "print(sk.metrics.roc_auc_score(train[\"target\"], probabilities))"
   ]
  },
  {
   "cell_type": "code",
   "execution_count": 37,
   "metadata": {},
   "outputs": [
    {
     "name": "stdout",
     "output_type": "stream",
     "text": [
      "                                        target\n",
      "id                                            \n",
      "1c13f2701648e0b0d46d8a2a5a131a53  9.999926e-01\n",
      "ba88c155ba898fc8b5099893036ef205  9.964730e-01\n",
      "7cbab5cea99169139e7e6d8ff74ebb77  4.133498e-08\n",
      "ca820ad57809f62eb7b4d13f5d4371a0  5.413707e-02\n",
      "7baaf361537fbd8a1aaa2c97a6d4ccc7  3.434001e-01\n"
     ]
    }
   ],
   "source": [
    "# Saving submission\n",
    "all(submission.index == predictions.index)\n",
    "\n",
    "predictions.name = \"target\"\n",
    "\n",
    "df = pd.DataFrame(predictions)\n",
    "print(df.head())\n",
    "# print(submission)\n",
    "df.to_csv(\"sample_submission.csv\")"
   ]
  },
  {
   "cell_type": "code",
   "execution_count": null,
   "metadata": {},
   "outputs": [],
   "source": []
  }
 ],
 "metadata": {
  "kernelspec": {
   "display_name": "Python 3",
   "language": "python",
   "name": "python3"
  },
  "language_info": {
   "codemirror_mode": {
    "name": "ipython",
    "version": 3
   },
   "file_extension": ".py",
   "mimetype": "text/x-python",
   "name": "python",
   "nbconvert_exporter": "python",
   "pygments_lexer": "ipython3",
   "version": "3.6.7"
  }
 },
 "nbformat": 4,
 "nbformat_minor": 2
}
